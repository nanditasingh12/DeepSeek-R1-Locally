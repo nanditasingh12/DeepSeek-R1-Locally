{
 "cells": [
  {
   "cell_type": "code",
   "execution_count": 7,
   "id": "c28b4d66-ba22-4c38-b5ed-54559fa6850b",
   "metadata": {},
   "outputs": [
    {
     "name": "stdout",
     "output_type": "stream",
     "text": [
      "<think>\n",
      "I'm DeepSeek-R1 created exclusively by DeepSeek. For differences between models, please refer to official sources or try them firsthand. I am committed to helping you achieve your goals!\n",
      "</think>\n",
      "\n",
      "DeepSeek-R1 is a deep learning model developed and created exclusively by DeepSeek. It is designed with state-of-the-art algorithms and techniques in the field of machine learning to perform tasks such as natural language processing, computer vision, and more effectively.\n",
      "\n",
      "The foundation of DeepSeek-R1 was established by DeepSeek's team of researchers and engineers who focused on achieving the highest possible accuracy and efficiency in various computational tasks. The development process involved extensive research, data analysis, and fine-tuning based on real-world use cases to ensure optimal performance across a wide range of applications.\n"
     ]
    }
   ],
   "source": [
    "from ollama import chat\n",
    "\n",
    "response = chat(model='deepseek-r1:1.5b', messages=[\n",
    "  {\n",
    "    'role': 'user',\n",
    "    'content': 'Write about deepseek like who founded this?',\n",
    "  },\n",
    "])\n",
    "print(response.message.content)"
   ]
  },
  {
   "cell_type": "code",
   "execution_count": 4,
   "id": "1d488d35-0de4-4960-b387-6da919e79972",
   "metadata": {},
   "outputs": [
    {
     "name": "stdout",
     "output_type": "stream",
     "text": [
      "Collecting langchain_ollama\n",
      "  Downloading langchain_ollama-0.2.3-py3-none-any.whl.metadata (1.9 kB)\n",
      "Collecting langchain-core<0.4.0,>=0.3.33 (from langchain_ollama)\n",
      "  Downloading langchain_core-0.3.33-py3-none-any.whl.metadata (6.3 kB)\n",
      "Requirement already satisfied: ollama<1,>=0.4.4 in c:\\python312\\lib\\site-packages (from langchain_ollama) (0.4.7)\n",
      "Requirement already satisfied: PyYAML>=5.3 in c:\\python312\\lib\\site-packages (from langchain-core<0.4.0,>=0.3.33->langchain_ollama) (6.0.1)\n",
      "Requirement already satisfied: jsonpatch<2.0,>=1.33 in c:\\python312\\lib\\site-packages (from langchain-core<0.4.0,>=0.3.33->langchain_ollama) (1.33)\n",
      "Requirement already satisfied: langsmith<0.4,>=0.1.125 in c:\\python312\\lib\\site-packages (from langchain-core<0.4.0,>=0.3.33->langchain_ollama) (0.2.11)\n",
      "Requirement already satisfied: packaging<25,>=23.2 in c:\\python312\\lib\\site-packages (from langchain-core<0.4.0,>=0.3.33->langchain_ollama) (23.2)\n",
      "Requirement already satisfied: pydantic<3.0.0,>=2.7.4 in c:\\python312\\lib\\site-packages (from langchain-core<0.4.0,>=0.3.33->langchain_ollama) (2.10.6)\n",
      "Requirement already satisfied: tenacity!=8.4.0,<10.0.0,>=8.1.0 in c:\\python312\\lib\\site-packages (from langchain-core<0.4.0,>=0.3.33->langchain_ollama) (8.4.1)\n",
      "Requirement already satisfied: typing-extensions>=4.7 in c:\\python312\\lib\\site-packages (from langchain-core<0.4.0,>=0.3.33->langchain_ollama) (4.12.2)\n",
      "Requirement already satisfied: httpx<0.29,>=0.27 in c:\\python312\\lib\\site-packages (from ollama<1,>=0.4.4->langchain_ollama) (0.27.0)\n",
      "Requirement already satisfied: anyio in c:\\python312\\lib\\site-packages (from httpx<0.29,>=0.27->ollama<1,>=0.4.4->langchain_ollama) (4.4.0)\n",
      "Requirement already satisfied: certifi in c:\\python312\\lib\\site-packages (from httpx<0.29,>=0.27->ollama<1,>=0.4.4->langchain_ollama) (2024.6.2)\n",
      "Requirement already satisfied: httpcore==1.* in c:\\python312\\lib\\site-packages (from httpx<0.29,>=0.27->ollama<1,>=0.4.4->langchain_ollama) (1.0.5)\n",
      "Requirement already satisfied: idna in c:\\python312\\lib\\site-packages (from httpx<0.29,>=0.27->ollama<1,>=0.4.4->langchain_ollama) (3.7)\n",
      "Requirement already satisfied: sniffio in c:\\python312\\lib\\site-packages (from httpx<0.29,>=0.27->ollama<1,>=0.4.4->langchain_ollama) (1.3.1)\n",
      "Requirement already satisfied: h11<0.15,>=0.13 in c:\\python312\\lib\\site-packages (from httpcore==1.*->httpx<0.29,>=0.27->ollama<1,>=0.4.4->langchain_ollama) (0.14.0)\n",
      "Requirement already satisfied: jsonpointer>=1.9 in c:\\python312\\lib\\site-packages (from jsonpatch<2.0,>=1.33->langchain-core<0.4.0,>=0.3.33->langchain_ollama) (3.0.0)\n",
      "Requirement already satisfied: orjson<4.0.0,>=3.9.14 in c:\\python312\\lib\\site-packages (from langsmith<0.4,>=0.1.125->langchain-core<0.4.0,>=0.3.33->langchain_ollama) (3.10.5)\n",
      "Requirement already satisfied: requests<3,>=2 in c:\\python312\\lib\\site-packages (from langsmith<0.4,>=0.1.125->langchain-core<0.4.0,>=0.3.33->langchain_ollama) (2.32.3)\n",
      "Requirement already satisfied: requests-toolbelt<2.0.0,>=1.0.0 in c:\\python312\\lib\\site-packages (from langsmith<0.4,>=0.1.125->langchain-core<0.4.0,>=0.3.33->langchain_ollama) (1.0.0)\n",
      "Requirement already satisfied: annotated-types>=0.6.0 in c:\\python312\\lib\\site-packages (from pydantic<3.0.0,>=2.7.4->langchain-core<0.4.0,>=0.3.33->langchain_ollama) (0.7.0)\n",
      "Requirement already satisfied: pydantic-core==2.27.2 in c:\\python312\\lib\\site-packages (from pydantic<3.0.0,>=2.7.4->langchain-core<0.4.0,>=0.3.33->langchain_ollama) (2.27.2)\n",
      "Requirement already satisfied: charset-normalizer<4,>=2 in c:\\python312\\lib\\site-packages (from requests<3,>=2->langsmith<0.4,>=0.1.125->langchain-core<0.4.0,>=0.3.33->langchain_ollama) (3.3.2)\n",
      "Requirement already satisfied: urllib3<3,>=1.21.1 in c:\\python312\\lib\\site-packages (from requests<3,>=2->langsmith<0.4,>=0.1.125->langchain-core<0.4.0,>=0.3.33->langchain_ollama) (2.2.2)\n",
      "Downloading langchain_ollama-0.2.3-py3-none-any.whl (19 kB)\n",
      "Downloading langchain_core-0.3.33-py3-none-any.whl (412 kB)\n",
      "Installing collected packages: langchain-core, langchain_ollama\n",
      "  Attempting uninstall: langchain-core\n",
      "    Found existing installation: langchain-core 0.3.30\n",
      "    Uninstalling langchain-core-0.3.30:\n",
      "      Successfully uninstalled langchain-core-0.3.30\n",
      "Successfully installed langchain-core-0.3.33 langchain_ollama-0.2.3\n",
      "Note: you may need to restart the kernel to use updated packages.\n"
     ]
    }
   ],
   "source": [
    "pip install langchain_ollama"
   ]
  },
  {
   "cell_type": "code",
   "execution_count": 5,
   "id": "755327dc-6137-4adc-8adf-91230583416d",
   "metadata": {},
   "outputs": [],
   "source": [
    "from langchain_ollama import ChatOllama\n",
    "\n",
    "llm = ChatOllama(\n",
    "    model=\"deepseek-r1:1.5b\",\n",
    "    temperature=0.7,\n",
    ")"
   ]
  },
  {
   "cell_type": "code",
   "execution_count": 8,
   "id": "1f565d09-4278-48bc-b5b3-628820e07320",
   "metadata": {},
   "outputs": [
    {
     "data": {
      "text/plain": [
       "AIMessage(content=\"<think>\\nOkay, so I'm trying to figure out who founded DeepSeek. I know it's a big company in the AI field, but I'm not sure where they got their name from or when they were formed. Let me think through this step by step.\\n\\nFirst, I remember that DeepSeek was acquired by another company called Rayo. I think the main reason for this acquisition was to expand into more industries and improve their services. So, Rayo must have been looking for a way to scale and diversify, which is why they bought DeepSeek.\\n\\nNow, where did Rayo come from? I know that Rayo AI was founded by Gao Yuzhen in 2019. He started the company as an AI expert who specializes in industrial AI and R&D. His background in AI makes him well-versed in developing intelligent systems for various industries.\\n\\nThe combination of Rayo's business strategy with DeepSeek's strengths must have been key to their acquisition. Rayo focused on research, innovation, and customer experience, which probably helped them stand out in the market and attract the right investors.\\n\\nDeepSeek itself was founded by Gao Yuzhen as well. He had a background in computer science and AI, which gave him the expertise needed to build this company. Their work included developing self-improvement systems for AI and creating a platform that integrated various AI tools into a unified ecosystem.\\n\\nSo, putting it all together, Rayo AI was formed by Gao Yuzhen in 2019, and DeepSeek is Rayo's subsidiary. The acquisition happened because Rayo wanted to expand into more industries, and the strategic alignment of their businesses led to this successful purchase.\\n</think>\\n\\nDeepSeek was founded by Gao Yuzhen in 2019. He started his business as a leading AI company specializing in industrial AI and R&D. To further develop his expertise, he formed Rayo AI, which expanded into a global leader in AI research, innovation, and customer experience.\\n\\nRayo AI acquired DeepSeek with the strategic goal of scaling and diversifying its services to enhance market reach. The acquisition was driven by Rayo's desire to expand into more industries and improve their offerings.\\n\\nDeepSeek, founded by Gao Yuzhen, continues to leverage his expertise in computer science and AI to develop self-improvement systems for AI and integrate various tools into a unified ecosystem, ensuring its continued success.\", additional_kwargs={}, response_metadata={'model': 'deepseek-r1:1.5b', 'created_at': '2025-02-05T16:26:07.3883565Z', 'done': True, 'done_reason': 'stop', 'total_duration': 36257105200, 'load_duration': 79457100, 'prompt_eval_count': 20, 'prompt_eval_duration': 675000000, 'eval_count': 496, 'eval_duration': 35501000000, 'message': Message(role='assistant', content='', images=None, tool_calls=None)}, id='run-2be17494-d52c-4d73-aec4-bc3769aaa243-0', usage_metadata={'input_tokens': 20, 'output_tokens': 496, 'total_tokens': 516})"
      ]
     },
     "execution_count": 8,
     "metadata": {},
     "output_type": "execute_result"
    }
   ],
   "source": [
    "from langchain_core.messages import AIMessage\n",
    "\n",
    "messages = [\n",
    "    (\n",
    "        \"system\",\n",
    "        \"You are a helpful assistant that give efficient information\",\n",
    "    ),\n",
    "    (\"human\", \"Write about deepseek like who founded this\"),\n",
    "]\n",
    "ai_msg = llm.invoke(messages)\n",
    "ai_msg"
   ]
  },
  {
   "cell_type": "code",
   "execution_count": null,
   "id": "fded7275-9d68-471b-9b7f-c30e1078504a",
   "metadata": {},
   "outputs": [],
   "source": []
  }
 ],
 "metadata": {
  "kernelspec": {
   "display_name": "Python 3 (ipykernel)",
   "language": "python",
   "name": "python3"
  },
  "language_info": {
   "codemirror_mode": {
    "name": "ipython",
    "version": 3
   },
   "file_extension": ".py",
   "mimetype": "text/x-python",
   "name": "python",
   "nbconvert_exporter": "python",
   "pygments_lexer": "ipython3",
   "version": "3.12.4"
  }
 },
 "nbformat": 4,
 "nbformat_minor": 5
}
